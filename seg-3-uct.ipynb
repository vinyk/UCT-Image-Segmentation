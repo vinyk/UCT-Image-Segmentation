{
 "cells": [
  {
   "cell_type": "code",
   "execution_count": 1,
   "id": "fe4e9f6a",
   "metadata": {
    "execution": {
     "iopub.execute_input": "2022-07-14T15:16:24.878887Z",
     "iopub.status.busy": "2022-07-14T15:16:24.877055Z",
     "iopub.status.idle": "2022-07-14T15:16:24.892479Z",
     "shell.execute_reply": "2022-07-14T15:16:24.893269Z",
     "shell.execute_reply.started": "2022-07-08T05:36:54.879949Z"
    },
    "papermill": {
     "duration": 0.051591,
     "end_time": "2022-07-14T15:16:24.893676",
     "exception": false,
     "start_time": "2022-07-14T15:16:24.842085",
     "status": "completed"
    },
    "tags": []
   },
   "outputs": [],
   "source": [
    "import sys\n",
    "sys.path.append(\"../input/segmentation-models-pytorch/segmentation_models.pytorch-master\")\n",
    "sys.path.append('../input/timm-pytorch-image-models/pytorch-image-models-master')\n",
    "sys.path.append(\"../input/pretrainedmodels/pretrainedmodels-0.7.4\")\n",
    "sys.path.append(\"../input/efficientnet-pytorch/EfficientNet-PyTorch-master\")"
   ]
  },
  {
   "cell_type": "code",
   "execution_count": 2,
   "id": "84127caa",
   "metadata": {
    "execution": {
     "iopub.execute_input": "2022-07-14T15:16:24.969070Z",
     "iopub.status.busy": "2022-07-14T15:16:24.968135Z",
     "iopub.status.idle": "2022-07-14T15:16:34.367383Z",
     "shell.execute_reply": "2022-07-14T15:16:34.366655Z",
     "shell.execute_reply.started": "2022-06-07T05:33:07.488986Z"
    },
    "papermill": {
     "duration": 9.438124,
     "end_time": "2022-07-14T15:16:34.367546",
     "exception": false,
     "start_time": "2022-07-14T15:16:24.929422",
     "status": "completed"
    },
    "tags": []
   },
   "outputs": [],
   "source": [
    "import pandas as pd\n",
    "import numpy as np\n",
    "import os\n",
    "from glob import glob\n",
    "import gc\n",
    "import matplotlib.pyplot as plt\n",
    "import torch\n",
    "import torch.nn as nn\n",
    "from torch.utils.data import Dataset, DataLoader\n",
    "from torchvision import transforms as T\n",
    "import torchvision\n",
    "import torch.nn.functional as F\n",
    "from torch.autograd import Variable\n",
    "from PIL import Image\n",
    "import cv2\n",
    "import albumentations as A\n",
    "import time\n",
    "import os\n",
    "from tqdm import tqdm\n",
    "import torch.nn.functional as F\n",
    "import segmentation_models_pytorch as smp\n",
    "from torch.autograd import Variable\n",
    "import torch.nn.functional as F\n",
    "import numba\n",
    "import numpy as np\n",
    "from math import sqrt\n",
    "from scipy.spatial.distance import directed_hausdorff\n",
    "from scipy.ndimage import convolve\n",
    "from scipy.ndimage.morphology import distance_transform_edt as edt\n",
    "from torch.optim.lr_scheduler import _LRScheduler\n",
    "from torch.optim.lr_scheduler import ReduceLROnPlateau\n",
    "from sklearn.model_selection import KFold\n",
    "import math"
   ]
  },
  {
   "cell_type": "code",
   "execution_count": 3,
   "id": "7116e81d",
   "metadata": {
    "execution": {
     "iopub.execute_input": "2022-07-14T15:16:34.463350Z",
     "iopub.status.busy": "2022-07-14T15:16:34.458144Z",
     "iopub.status.idle": "2022-07-14T15:16:34.467551Z",
     "shell.execute_reply": "2022-07-14T15:16:34.466732Z",
     "shell.execute_reply.started": "2022-06-07T05:33:19.685105Z"
    },
    "papermill": {
     "duration": 0.075549,
     "end_time": "2022-07-14T15:16:34.467719",
     "exception": false,
     "start_time": "2022-07-14T15:16:34.392170",
     "status": "completed"
    },
    "tags": []
   },
   "outputs": [],
   "source": [
    "def prepare_nd_df_test(df, WINDOW_SIZE=12, base_path_image=\"\", base_path_mask=\"\"):\n",
    "    IMG, MSK, STM, SML, LRG, SH, SW, F, ID, CASE, DAY = [], [], [], [], [], [], [], [], [], [], []\n",
    "    cases = df['case_id'].unique()\n",
    "    for eachC in cases:\n",
    "        xdf = df[df['case_id'] == eachC].reset_index(drop=True)\n",
    "        days = xdf['day_num'].unique()\n",
    "        for eachD in days:\n",
    "            xxdf = xdf[xdf['day_num'] == eachD].reset_index(drop=True)\n",
    "\n",
    "            for i in range(0, xxdf.shape[0]):\n",
    "                check = xxdf[i:i + WINDOW_SIZE]\n",
    "                if check.shape[0] != WINDOW_SIZE:\n",
    "                    break\n",
    "                else:\n",
    "                    id = check['id'].values[2]\n",
    "                    img = check['f_path'].values.tolist()\n",
    "                    msk = img[2]\n",
    "                    stm = [None, None, None, None, None]\n",
    "                    sml = [None, None, None, None, None]\n",
    "                    lrg = [None, None, None, None, None]\n",
    "                    slice_h = check['slice_h'].values.tolist()\n",
    "                    slice_w = check['slice_w'].values.tolist()\n",
    "                    case_id = check['case_id'].values.tolist()\n",
    "                    day_num = check['day_num'].values.tolist()\n",
    "                    fold = -1\n",
    "                    IMG.append(img)\n",
    "                    MSK.append(msk)\n",
    "                    STM.append(stm)\n",
    "                    SML.append(sml)\n",
    "                    LRG.append(lrg)\n",
    "                    SH.append(slice_h)\n",
    "                    SW.append(slice_w)\n",
    "                    F.append(fold)\n",
    "                    ID.append(id)\n",
    "                    CASE.append(case_id[0])\n",
    "                    DAY.append(day_num[0])\n",
    "\n",
    "    nndf = pd.DataFrame()\n",
    "    nndf[\"id\"] = ID\n",
    "    nndf[\"case_id\"] = CASE\n",
    "    nndf[\"day_num\"] = DAY\n",
    "    nndf[\"nd_images\"] = IMG\n",
    "    nndf[\"nd_masks\"] = MSK\n",
    "    nndf[\"stomach_rles\"] = STM\n",
    "    nndf[\"small_rles\"] = SML\n",
    "    nndf[\"large_rles\"] = LRG\n",
    "    nndf[\"slices_h\"] = SH\n",
    "    nndf[\"slices_w\"] = SW\n",
    "    nndf[\"fold\"] = F\n",
    "    return nndf\n",
    "\n",
    "\n",
    "def get_1d_transformations(img_size):\n",
    "    data_transforms = {\n",
    "        \"train\": A.Compose([\n",
    "                    A.Resize(img_size, img_size, interpolation=cv2.INTER_NEAREST),\n",
    "            A.HorizontalFlip(p=0.5),\n",
    "            A.VerticalFlip(p=0.5),\n",
    "            A.ShiftScaleRotate(shift_limit=0.0625, scale_limit=0.05, rotate_limit=10, p=0.5),\n",
    "            A.OneOf([\n",
    "                A.GridDistortion(num_steps=5, distort_limit=0.05, p=1.0),\n",
    "                A.ElasticTransform(alpha=1, sigma=50, alpha_affine=50, p=1.0)\n",
    "            ], p=0.25),\n",
    "            A.CoarseDropout(max_holes=8, max_height=img_size // 20, max_width=img_size // 20,\n",
    "                            min_holes=5, fill_value=0, mask_fill_value=0, p=0.5),\n",
    "        ], p=1.0),\n",
    "\n",
    "        \"valid\": A.Compose([A.Resize(img_size, img_size, interpolation=cv2.INTER_NEAREST)], p=1.0)\n",
    "    }\n",
    "    return data_transforms\n",
    "\n",
    "\n",
    "def get_prepare_df(filename, sep = '\\\\', TRAIN_DIR = '../train'):\n",
    "\n",
    "    df = pd.read_csv(filename)\n",
    "\n",
    "    df[\"case_id_str\"] = df[\"id\"].apply(lambda x: x.split(\"_\", 2)[0])\n",
    "    df[\"case_id\"] = df[\"id\"].apply(lambda x: int(x.split(\"_\", 2)[0].replace(\"case\", \"\")))\n",
    "\n",
    "    # 2. Get Day as a column\n",
    "    df[\"day_num_str\"] = df[\"id\"].apply(lambda x: x.split(\"_\", 2)[1])\n",
    "    df[\"day_num\"] = df[\"id\"].apply(lambda x: int(x.split(\"_\", 2)[1].replace(\"day\", \"\")))\n",
    "\n",
    "    # 3. Get Slice Identifier as a column\n",
    "    df[\"slice_id\"] = df[\"id\"].apply(lambda x: x.split(\"_\", 2)[2])\n",
    "\n",
    "    # Get all training images\n",
    "    all_train_images = glob(os.path.join(TRAIN_DIR, \"**\", \"*.png\"), recursive=True)\n",
    "\n",
    "    p = []\n",
    "    x = all_train_images[0].rsplit(sep, 4)[0]\n",
    "    for i in range(0, df.shape[0]):\n",
    "        p.append(os.path.join(x, df[\"case_id_str\"].values[i],\n",
    "                              df[\"case_id_str\"].values[i] + \"_\" + df[\"day_num_str\"].values[i], \"scans\",\n",
    "                              df[\"slice_id\"].values[i]))\n",
    "    df[\"_partial_ident\"] = p\n",
    "\n",
    "    p = []\n",
    "    for i in range(0, len(all_train_images)):\n",
    "        p.append(str(all_train_images[i].rsplit(\"_\", 4)[0]))\n",
    "\n",
    "    _tmp_merge_df = pd.DataFrame()\n",
    "    _tmp_merge_df['_partial_ident'] = p\n",
    "    _tmp_merge_df['f_path'] = all_train_images\n",
    "\n",
    "    df = df.merge(_tmp_merge_df, on=\"_partial_ident\").drop(columns=[\"_partial_ident\"])\n",
    "\n",
    "    # 5. Get slice dimensions from filepath (int in pixels)\n",
    "    df[\"slice_h\"] = df[\"f_path\"].apply(lambda x: int(x[:-4].rsplit(\"_\", 4)[1]))\n",
    "    df[\"slice_w\"] = df[\"f_path\"].apply(lambda x: int(x[:-4].rsplit(\"_\", 4)[2]))\n",
    "\n",
    "    # 6. Pixel spacing from filepath (float in mm)\n",
    "    df[\"px_spacing_h\"] = df[\"f_path\"].apply(lambda x: float(x[:-4].rsplit(\"_\", 4)[3]))\n",
    "    df[\"px_spacing_w\"] = df[\"f_path\"].apply(lambda x: float(x[:-4].rsplit(\"_\", 4)[4]))\n",
    "\n",
    "    df1 = df[df.index % 3 == 0]\n",
    "    df2 = df[df.index % 3 == 1]\n",
    "    df3 = df[df.index % 3 == 2]\n",
    "    df = df1.copy()\n",
    "    df.pop('class')\n",
    "    gc.collect()\n",
    "\n",
    "    del df1, df2, df3\n",
    "    gc.collect()\n",
    "    df = df.reset_index(drop=True)\n",
    "    return df\n",
    "\n",
    "# ref.: https://www.kaggle.com/stainsby/fast-tested-rle\n",
    "def rle_encode(img):\n",
    "    \"\"\" TBD\n",
    "\n",
    "    Args:\n",
    "        img (np.array):\n",
    "            - 1 indicating mask\n",
    "            - 0 indicating background\n",
    "\n",
    "    Returns:\n",
    "        run length as string formated\n",
    "    \"\"\"\n",
    "\n",
    "    pixels = img.flatten()\n",
    "    pixels = np.concatenate([[0], pixels, [0]])\n",
    "    runs = np.where(pixels[1:] != pixels[:-1])[0] + 1\n",
    "    runs[1::2] -= runs[::2]\n",
    "    return ' '.join(str(x) for x in runs)\n",
    "\n",
    "\n",
    "def open_gray16(_path, normalize_f=True, normalize=False, to_rgb=False):\n",
    "    \"\"\" Helper to open competition specific files from path\n",
    "\n",
    "    Args:\n",
    "        _path (str): Path to the image on the LOCAL file system\n",
    "        normalize (bool, optional): Whether or not to coerce image to be between 0-1\n",
    "        to_rgb (bool, optional): Whether or not to tile the grayscale image to produce a pseudo RGB image\n",
    "\n",
    "    Returns:\n",
    "        The image as a numpy array\n",
    "    \"\"\"\n",
    "    if normalize_f:\n",
    "        img = cv2.imread(_path, cv2.IMREAD_UNCHANGED)\n",
    "        img = img.astype('float32')  # original is uint16\n",
    "        img = (img - img.min()) / (img.max() - img.min()) * 255.0  # scale image to [0, 255]\n",
    "        img = img.astype('uint8')\n",
    "        if to_rgb:\n",
    "            return np.tile(np.expand_dims(img, axis=-1), 3)\n",
    "        else:\n",
    "            return np.tile(np.expand_dims(img, axis=-1), 1)\n",
    "    elif normalize:\n",
    "        if to_rgb:\n",
    "            return np.tile(np.expand_dims(cv2.imread(_path, cv2.IMREAD_ANYDEPTH) / 65535., axis=-1), 3)\n",
    "        else:\n",
    "            return cv2.imread(_path, cv2.IMREAD_ANYDEPTH) / 65535.\n",
    "    else:\n",
    "        if to_rgb:\n",
    "            return np.tile(np.expand_dims(cv2.imread(_path, cv2.IMREAD_ANYDEPTH), axis=-1), 3)\n",
    "        else:\n",
    "            return cv2.imread(_path, cv2.IMREAD_ANYDEPTH)"
   ]
  },
  {
   "cell_type": "code",
   "execution_count": 4,
   "id": "8f88e373",
   "metadata": {
    "execution": {
     "iopub.execute_input": "2022-07-14T15:16:34.529202Z",
     "iopub.status.busy": "2022-07-14T15:16:34.528165Z",
     "iopub.status.idle": "2022-07-14T15:16:34.534346Z",
     "shell.execute_reply": "2022-07-14T15:16:34.533846Z",
     "shell.execute_reply.started": "2022-06-07T05:33:21.039495Z"
    },
    "papermill": {
     "duration": 0.040472,
     "end_time": "2022-07-14T15:16:34.534486",
     "exception": false,
     "start_time": "2022-07-14T15:16:34.494014",
     "status": "completed"
    },
    "tags": []
   },
   "outputs": [],
   "source": [
    "def get_1d_model(model_type='unet', encoder_name='timm-efficientnet-b4', encoder_weights='noisy-student',\n",
    "                 in_channels=1, classes=3, activation=None):\n",
    "\n",
    "    if model_type == 'unet':\n",
    "        model = smp.Unet(encoder_name=encoder_name, encoder_weights=encoder_weights,\n",
    "                         in_channels=in_channels, classes=classes, activation=activation)\n",
    "    elif model_type == 'fpn':\n",
    "        model = smp.FPN(encoder_name=encoder_name, encoder_weights=encoder_weights,\n",
    "                        in_channels=in_channels, classes=classes, activation=activation)\n",
    "    elif model_type == 'unetplusplus':\n",
    "        model = smp.UnetPlusPlus(encoder_name=encoder_name, encoder_weights=encoder_weights,\n",
    "                                 in_channels=in_channels, classes=classes, activation=activation)\n",
    "    elif model_type == 'linknet':\n",
    "        model = smp.Linknet(encoder_name=encoder_name, encoder_weights=encoder_weights,\n",
    "                            in_channels=in_channels, classes=classes, activation=activation)\n",
    "    elif model_type == 'deeplabv3':\n",
    "        model = smp.DeepLabV3(encoder_name=encoder_name, encoder_weights=encoder_weights,\n",
    "                              in_channels=in_channels, classes=classes, activation=activation)\n",
    "    elif model_type == 'deeplabv3plus':\n",
    "        model = smp.DeepLabV3Plus(encoder_name=encoder_name, encoder_weights=encoder_weights,\n",
    "                                  in_channels=in_channels, classes=classes, activation=activation)\n",
    "    elif model_type == 'pspnet':\n",
    "        model = smp.PSPNet(encoder_name=encoder_name, encoder_weights=encoder_weights,\n",
    "                           in_channels=in_channels, classes=classes, activation=activation)\n",
    "    return model\n"
   ]
  },
  {
   "cell_type": "code",
   "execution_count": 5,
   "id": "99c01177",
   "metadata": {
    "execution": {
     "iopub.execute_input": "2022-07-14T15:16:34.592666Z",
     "iopub.status.busy": "2022-07-14T15:16:34.591525Z",
     "iopub.status.idle": "2022-07-14T15:16:34.603556Z",
     "shell.execute_reply": "2022-07-14T15:16:34.604074Z",
     "shell.execute_reply.started": "2022-06-07T05:33:27.138227Z"
    },
    "papermill": {
     "duration": 0.043792,
     "end_time": "2022-07-14T15:16:34.604276",
     "exception": false,
     "start_time": "2022-07-14T15:16:34.560484",
     "status": "completed"
    },
    "tags": []
   },
   "outputs": [],
   "source": [
    "df = pd.read_csv(\"../input/uw-madison-gi-tract-image-segmentation/sample_submission.csv\")\n",
    "DEBUG = False\n",
    "if df.shape[0] == 0:\n",
    "    DEBUG = True"
   ]
  },
  {
   "cell_type": "code",
   "execution_count": 6,
   "id": "208b55ee",
   "metadata": {
    "execution": {
     "iopub.execute_input": "2022-07-14T15:16:34.724206Z",
     "iopub.status.busy": "2022-07-14T15:16:34.722850Z",
     "iopub.status.idle": "2022-07-14T15:16:34.728162Z",
     "shell.execute_reply": "2022-07-14T15:16:34.727444Z",
     "shell.execute_reply.started": "2022-06-07T05:40:18.119344Z"
    },
    "papermill": {
     "duration": 0.097281,
     "end_time": "2022-07-14T15:16:34.728320",
     "exception": false,
     "start_time": "2022-07-14T15:16:34.631039",
     "status": "completed"
    },
    "tags": []
   },
   "outputs": [],
   "source": [
    "CFG = {\n",
    "    'fold': 0,\n",
    "    'bs': 1,\n",
    "    'n_workers': 2,\n",
    "    'init_lr': 1e-3,\n",
    "    'warmup_factor': 10,\n",
    "    'warmup_epochs': 5,\n",
    "    'n_epochs': 100,\n",
    "    'img_size': 384,\n",
    "    'device': torch.device(\"cuda:0\" if torch.cuda.is_available() else \"cpu\"),\n",
    "    'debug': DEBUG,\n",
    "    'loss_name': 'dice',\n",
    "    'model_type': 'unet',\n",
    "    'encoder_name': 'timm-efficientnet-b4',\n",
    "    'in_channels': 5,\n",
    "    'num_classes': 3,\n",
    "    }"
   ]
  },
  {
   "cell_type": "code",
   "execution_count": 7,
   "id": "11042788",
   "metadata": {
    "execution": {
     "iopub.execute_input": "2022-07-14T15:16:34.784681Z",
     "iopub.status.busy": "2022-07-14T15:16:34.783540Z",
     "iopub.status.idle": "2022-07-14T15:16:34.785590Z",
     "shell.execute_reply": "2022-07-14T15:16:34.786144Z",
     "shell.execute_reply.started": "2022-06-07T05:36:40.671491Z"
    },
    "papermill": {
     "duration": 0.032378,
     "end_time": "2022-07-14T15:16:34.786320",
     "exception": false,
     "start_time": "2022-07-14T15:16:34.753942",
     "status": "completed"
    },
    "tags": []
   },
   "outputs": [],
   "source": [
    "def crop_get_mask(img, tol=15):\n",
    "    mask = img>tol\n",
    "    return np.ix_(mask.any(1),mask.any(0))"
   ]
  },
  {
   "cell_type": "code",
   "execution_count": 8,
   "id": "e92e3ef5",
   "metadata": {
    "execution": {
     "iopub.execute_input": "2022-07-14T15:16:34.857518Z",
     "iopub.status.busy": "2022-07-14T15:16:34.851833Z",
     "iopub.status.idle": "2022-07-14T15:16:34.860547Z",
     "shell.execute_reply": "2022-07-14T15:16:34.860000Z",
     "shell.execute_reply.started": "2022-06-07T05:36:40.908057Z"
    },
    "papermill": {
     "duration": 0.044333,
     "end_time": "2022-07-14T15:16:34.860703",
     "exception": false,
     "start_time": "2022-07-14T15:16:34.816370",
     "status": "completed"
    },
    "tags": []
   },
   "outputs": [],
   "source": [
    "class TractDatasetNSeg(Dataset):\n",
    "    def __init__(self, df, transform=None):\n",
    "        self.df = df\n",
    "        self.image_path = df['nd_images']\n",
    "        self.sh = df['slices_h']\n",
    "        self.sw = df['slices_w']\n",
    "        self.transform = transform\n",
    "\n",
    "    def __len__(self):\n",
    "        return len(self.df)\n",
    "\n",
    "    def __getitem__(self, idx):\n",
    "\n",
    "        img_paths = self.image_path[idx]\n",
    "        slack = []\n",
    "        for j in range(0, len(img_paths)):\n",
    "            slack.append(open_gray16(img_paths[j], to_rgb=False)[:, :, 0])\n",
    "            \n",
    "        slack = np.stack(slack)\n",
    "        slack = np.transpose(slack, (1, 2, 0))\n",
    "        m = crop_get_mask(slack[:, :, 2], 15)\n",
    "#         print (m[0].shape, m[1].shape)\n",
    "        img = slack[m]\n",
    "        prev_shape = (img.shape[0], img.shape[1])\n",
    "        \n",
    "        \n",
    "        if self.transform is not None:\n",
    "            aug = self.transform(image=img)\n",
    "            img = aug['image']\n",
    "        img = img / img.max()\n",
    "        img = np.transpose(img, (2, 0, 1))\n",
    "        return torch.tensor(img, dtype=torch.float), [self.sh[idx][2], self.sw[idx][2], m, prev_shape[0], prev_shape[1]]"
   ]
  },
  {
   "cell_type": "code",
   "execution_count": 9,
   "id": "7d71968f",
   "metadata": {
    "execution": {
     "iopub.execute_input": "2022-07-14T15:16:34.934697Z",
     "iopub.status.busy": "2022-07-14T15:16:34.930862Z",
     "iopub.status.idle": "2022-07-14T15:16:34.938840Z",
     "shell.execute_reply": "2022-07-14T15:16:34.938234Z",
     "shell.execute_reply.started": "2022-06-07T05:34:40.260762Z"
    },
    "papermill": {
     "duration": 0.052648,
     "end_time": "2022-07-14T15:16:34.939006",
     "exception": false,
     "start_time": "2022-07-14T15:16:34.886358",
     "status": "completed"
    },
    "tags": []
   },
   "outputs": [],
   "source": [
    "def test_1d_epoch(model, loader, device):\n",
    "\n",
    "    model.eval()\n",
    "    activation = nn.Sigmoid()\n",
    "    stomach = []\n",
    "    smalltract = []\n",
    "    largetract = []\n",
    "    with torch.no_grad():\n",
    "        for (data, xd) in tqdm(loader, total=len(loader)):\n",
    "            data = data.to(device)\n",
    "            output = model(data)\n",
    "            output = activation(output)\n",
    "            output = (output > 0.5).to(torch.float32).cpu().numpy()\n",
    "            sh, sw, m, prev_shape0, prev_shape1 = xd\n",
    "            prev_shape = (int(prev_shape1[0]), int(prev_shape0[0]))\n",
    "            m = [m[0][0].numpy(), m[1][0].numpy()]\n",
    "            for idx in range(0, len(sh)):\n",
    "                root_shape = (int(sw[idx]), int(sh[idx]), 1)\n",
    "                xpred_arr = np.round(cv2.resize(output[idx, 0, :, :].astype('uint8'), prev_shape, interpolation=cv2.INTER_NEAREST)).astype('uint8')\n",
    "                pred_arr = np.zeros(shape=root_shape)\n",
    "                pred_arr[m] = xpred_arr[:, :, np.newaxis]\n",
    "#                 print (prev_shape, root_shape, pred_arr[m].shape, xpred_arr.shape)\n",
    "                stomach.append(rle_encode(pred_arr[:, :, 0]))\n",
    "                xpred_arr = np.round(cv2.resize(output[idx, 1, :, :].astype('uint8'), prev_shape, interpolation=cv2.INTER_NEAREST)).astype('uint8')\n",
    "                pred_arr = np.zeros(shape=root_shape)\n",
    "                pred_arr[m] = xpred_arr[:, :, np.newaxis]\n",
    "                smalltract.append(rle_encode(pred_arr[:, :, 0]))\n",
    "                xpred_arr = np.round(cv2.resize(output[idx, 2, :, :].astype('uint8'), prev_shape, interpolation=cv2.INTER_NEAREST)).astype('uint8')\n",
    "                pred_arr = np.zeros(shape=root_shape)\n",
    "                pred_arr[m] = xpred_arr[:, :, np.newaxis]\n",
    "                largetract.append(rle_encode(pred_arr[:, :, 0]))\n",
    "            \n",
    "    return stomach, smalltract, largetract"
   ]
  },
  {
   "cell_type": "code",
   "execution_count": 10,
   "id": "d1023955",
   "metadata": {
    "execution": {
     "iopub.execute_input": "2022-07-14T15:16:34.997340Z",
     "iopub.status.busy": "2022-07-14T15:16:34.995690Z",
     "iopub.status.idle": "2022-07-14T15:16:39.339718Z",
     "shell.execute_reply": "2022-07-14T15:16:39.338807Z",
     "shell.execute_reply.started": "2022-06-07T05:35:58.611551Z"
    },
    "papermill": {
     "duration": 4.375222,
     "end_time": "2022-07-14T15:16:39.339860",
     "exception": false,
     "start_time": "2022-07-14T15:16:34.964638",
     "status": "completed"
    },
    "tags": []
   },
   "outputs": [],
   "source": [
    "model = get_1d_model(model_type=CFG['model_type'], encoder_name=CFG['encoder_name'], encoder_weights=None,\n",
    "                 in_channels=CFG['in_channels'], classes=CFG['num_classes'], activation=None).to(CFG['device'])"
   ]
  },
  {
   "cell_type": "code",
   "execution_count": 11,
   "id": "acc39f87",
   "metadata": {
    "execution": {
     "iopub.execute_input": "2022-07-14T15:16:39.395822Z",
     "iopub.status.busy": "2022-07-14T15:16:39.395091Z",
     "iopub.status.idle": "2022-07-14T15:16:41.024482Z",
     "shell.execute_reply": "2022-07-14T15:16:41.023501Z",
     "shell.execute_reply.started": "2022-06-07T05:36:02.17982Z"
    },
    "papermill": {
     "duration": 1.659137,
     "end_time": "2022-07-14T15:16:41.024651",
     "exception": false,
     "start_time": "2022-07-14T15:16:39.365514",
     "status": "completed"
    },
    "tags": []
   },
   "outputs": [
    {
     "data": {
      "text/plain": [
       "<All keys matched successfully>"
      ]
     },
     "execution_count": 11,
     "metadata": {},
     "output_type": "execute_result"
    }
   ],
   "source": [
    "model_file = f'../input/unet-2-5d-2folds-384-50-epochs/2_5d_v1_crop_best_fold_0.pth'\n",
    "model.load_state_dict(torch.load(model_file))"
   ]
  },
  {
   "cell_type": "code",
   "execution_count": 12,
   "id": "76ed499b",
   "metadata": {
    "execution": {
     "iopub.execute_input": "2022-07-14T15:16:41.083391Z",
     "iopub.status.busy": "2022-07-14T15:16:41.082557Z",
     "iopub.status.idle": "2022-07-14T15:16:50.336325Z",
     "shell.execute_reply": "2022-07-14T15:16:50.335682Z",
     "shell.execute_reply.started": "2022-06-07T05:40:21.209123Z"
    },
    "papermill": {
     "duration": 9.285164,
     "end_time": "2022-07-14T15:16:50.336506",
     "exception": false,
     "start_time": "2022-07-14T15:16:41.051342",
     "status": "completed"
    },
    "tags": []
   },
   "outputs": [],
   "source": [
    "transforms = get_1d_transformations(CFG['img_size'])\n",
    "if CFG['debug']:\n",
    "    tr_csv_f = \"../input/uw-madison-gi-tract-image-segmentation/train.csv\"\n",
    "    df = get_prepare_df(tr_csv_f, sep='/', TRAIN_DIR = '../input/uw-madison-gi-tract-image-segmentation/train')\n",
    "    df = df[df['case_id'] == 30].reset_index(drop=True)\n",
    "    pdf = prepare_nd_df_test(df, WINDOW_SIZE=CFG['in_channels'])\n",
    "    test_set = TractDatasetNSeg(pdf.reset_index(drop=True), transforms[\"valid\"])\n",
    "else:\n",
    "    tr_csv_f = \"../input/uw-madison-gi-tract-image-segmentation/sample_submission.csv\"\n",
    "    df = get_prepare_df(tr_csv_f, sep='/', TRAIN_DIR = '../input/uw-madison-gi-tract-image-segmentation/test')\n",
    "    pdf = prepare_nd_df_test(df, WINDOW_SIZE=CFG['in_channels'])\n",
    "    test_set = TractDatasetNSeg(pdf.reset_index(drop=True), transforms[\"valid\"])"
   ]
  },
  {
   "cell_type": "code",
   "execution_count": 13,
   "id": "1f3a2b65",
   "metadata": {
    "execution": {
     "iopub.execute_input": "2022-07-14T15:16:50.397771Z",
     "iopub.status.busy": "2022-07-14T15:16:50.396646Z",
     "iopub.status.idle": "2022-07-14T15:16:50.398809Z",
     "shell.execute_reply": "2022-07-14T15:16:50.399299Z",
     "shell.execute_reply.started": "2022-06-07T05:40:36.645233Z"
    },
    "papermill": {
     "duration": 0.03469,
     "end_time": "2022-07-14T15:16:50.399468",
     "exception": false,
     "start_time": "2022-07-14T15:16:50.364778",
     "status": "completed"
    },
    "tags": []
   },
   "outputs": [],
   "source": [
    "test_loader = DataLoader(test_set, batch_size=CFG['bs'], shuffle=False, num_workers=CFG['n_workers'])"
   ]
  },
  {
   "cell_type": "code",
   "execution_count": 14,
   "id": "4630744b",
   "metadata": {
    "execution": {
     "iopub.execute_input": "2022-07-14T15:16:50.487004Z",
     "iopub.status.busy": "2022-07-14T15:16:50.485647Z",
     "iopub.status.idle": "2022-07-14T15:17:11.626321Z",
     "shell.execute_reply": "2022-07-14T15:17:11.625743Z",
     "shell.execute_reply.started": "2022-06-07T05:40:36.651126Z"
    },
    "papermill": {
     "duration": 21.187696,
     "end_time": "2022-07-14T15:17:11.626467",
     "exception": false,
     "start_time": "2022-07-14T15:16:50.438771",
     "status": "completed"
    },
    "tags": []
   },
   "outputs": [
    {
     "name": "stderr",
     "output_type": "stream",
     "text": [
      "  0%|          | 0/280 [00:00<?, ?it/s]/opt/conda/lib/python3.7/site-packages/ipykernel_launcher.py:21: FutureWarning: Using a non-tuple sequence for multidimensional indexing is deprecated; use `arr[tuple(seq)]` instead of `arr[seq]`. In the future this will be interpreted as an array index, `arr[np.array(seq)]`, which will result either in an error or a different result.\n",
      "/opt/conda/lib/python3.7/site-packages/ipykernel_launcher.py:26: FutureWarning: Using a non-tuple sequence for multidimensional indexing is deprecated; use `arr[tuple(seq)]` instead of `arr[seq]`. In the future this will be interpreted as an array index, `arr[np.array(seq)]`, which will result either in an error or a different result.\n",
      "/opt/conda/lib/python3.7/site-packages/ipykernel_launcher.py:30: FutureWarning: Using a non-tuple sequence for multidimensional indexing is deprecated; use `arr[tuple(seq)]` instead of `arr[seq]`. In the future this will be interpreted as an array index, `arr[np.array(seq)]`, which will result either in an error or a different result.\n",
      "100%|██████████| 280/280 [00:21<00:00, 13.25it/s]\n"
     ]
    }
   ],
   "source": [
    "stomach, smalltract, largetract = test_1d_epoch(model, test_loader, CFG['device'])"
   ]
  },
  {
   "cell_type": "code",
   "execution_count": 15,
   "id": "de2dbd24",
   "metadata": {
    "execution": {
     "iopub.execute_input": "2022-07-14T15:17:11.779650Z",
     "iopub.status.busy": "2022-07-14T15:17:11.778663Z",
     "iopub.status.idle": "2022-07-14T15:17:12.253519Z",
     "shell.execute_reply": "2022-07-14T15:17:12.253008Z",
     "shell.execute_reply.started": "2022-06-07T05:40:55.118401Z"
    },
    "papermill": {
     "duration": 0.557686,
     "end_time": "2022-07-14T15:17:12.253720",
     "exception": false,
     "start_time": "2022-07-14T15:17:11.696034",
     "status": "completed"
    },
    "tags": []
   },
   "outputs": [
    {
     "name": "stderr",
     "output_type": "stream",
     "text": [
      "100%|██████████| 288/288 [00:00<00:00, 9469.96it/s]\n"
     ]
    }
   ],
   "source": [
    "ids = []\n",
    "classes = []\n",
    "rles = []\n",
    "pids = pdf['id'].values\n",
    "ix = 0\n",
    "for index, row in tqdm(df.iterrows(), total=df.shape[0]):\n",
    "    ids.extend([row['id']] * 3)\n",
    "    classes.extend(['large_bowel', 'small_bowel', 'stomach'])\n",
    "    if row['id'] in pids:\n",
    "        rles.extend([largetract[ix], smalltract[ix], stomach[ix]])\n",
    "        ix += 1\n",
    "    else:\n",
    "        v = np.zeros(shape = (row['slice_w'], row['slice_h']))\n",
    "        v = rle_encode(v)\n",
    "        rles.extend([v, v, v])\n",
    "gc.collect()\n",
    "del largetract, smalltract, stomach\n",
    "gc.collect()\n",
    "\n",
    "xxdf = pd.DataFrame()\n",
    "xxdf['id'] = ids\n",
    "xxdf['class'] = classes\n",
    "xxdf['predicted'] = rles\n",
    "xxdf.to_csv(\"submission.csv\", index=False)"
   ]
  },
  {
   "cell_type": "code",
   "execution_count": null,
   "id": "fe6a7cac",
   "metadata": {
    "execution": {
     "iopub.execute_input": "2022-05-20T19:17:47.807261Z",
     "iopub.status.busy": "2022-05-20T19:17:47.806776Z",
     "iopub.status.idle": "2022-05-20T19:17:47.828032Z",
     "shell.execute_reply": "2022-05-20T19:17:47.827389Z",
     "shell.execute_reply.started": "2022-05-20T19:17:47.807221Z"
    },
    "papermill": {
     "duration": 0.070089,
     "end_time": "2022-07-14T15:17:12.398446",
     "exception": false,
     "start_time": "2022-07-14T15:17:12.328357",
     "status": "completed"
    },
    "tags": []
   },
   "outputs": [],
   "source": []
  },
  {
   "cell_type": "code",
   "execution_count": null,
   "id": "f0203d56",
   "metadata": {
    "papermill": {
     "duration": 0.07481,
     "end_time": "2022-07-14T15:17:12.549982",
     "exception": false,
     "start_time": "2022-07-14T15:17:12.475172",
     "status": "completed"
    },
    "tags": []
   },
   "outputs": [],
   "source": []
  },
  {
   "cell_type": "code",
   "execution_count": null,
   "id": "bb0ed12f",
   "metadata": {
    "papermill": {
     "duration": 0.069788,
     "end_time": "2022-07-14T15:17:12.694172",
     "exception": false,
     "start_time": "2022-07-14T15:17:12.624384",
     "status": "completed"
    },
    "tags": []
   },
   "outputs": [],
   "source": []
  },
  {
   "cell_type": "code",
   "execution_count": null,
   "id": "646e16d4",
   "metadata": {
    "papermill": {
     "duration": 0.075028,
     "end_time": "2022-07-14T15:17:12.844710",
     "exception": false,
     "start_time": "2022-07-14T15:17:12.769682",
     "status": "completed"
    },
    "tags": []
   },
   "outputs": [],
   "source": []
  },
  {
   "cell_type": "code",
   "execution_count": null,
   "id": "f2bbf6e9",
   "metadata": {
    "papermill": {
     "duration": 0.081198,
     "end_time": "2022-07-14T15:17:12.997954",
     "exception": false,
     "start_time": "2022-07-14T15:17:12.916756",
     "status": "completed"
    },
    "tags": []
   },
   "outputs": [],
   "source": []
  },
  {
   "cell_type": "code",
   "execution_count": null,
   "id": "7b5d7a87",
   "metadata": {
    "papermill": {
     "duration": 0.070756,
     "end_time": "2022-07-14T15:17:13.143270",
     "exception": false,
     "start_time": "2022-07-14T15:17:13.072514",
     "status": "completed"
    },
    "tags": []
   },
   "outputs": [],
   "source": []
  },
  {
   "cell_type": "code",
   "execution_count": null,
   "id": "e0c189dc",
   "metadata": {
    "papermill": {
     "duration": 0.078437,
     "end_time": "2022-07-14T15:17:13.291293",
     "exception": false,
     "start_time": "2022-07-14T15:17:13.212856",
     "status": "completed"
    },
    "tags": []
   },
   "outputs": [],
   "source": []
  },
  {
   "cell_type": "code",
   "execution_count": null,
   "id": "3a85d82c",
   "metadata": {
    "papermill": {
     "duration": 0.069559,
     "end_time": "2022-07-14T15:17:13.432541",
     "exception": false,
     "start_time": "2022-07-14T15:17:13.362982",
     "status": "completed"
    },
    "tags": []
   },
   "outputs": [],
   "source": []
  },
  {
   "cell_type": "code",
   "execution_count": null,
   "id": "e661fc67",
   "metadata": {
    "papermill": {
     "duration": 0.071176,
     "end_time": "2022-07-14T15:17:13.572541",
     "exception": false,
     "start_time": "2022-07-14T15:17:13.501365",
     "status": "completed"
    },
    "tags": []
   },
   "outputs": [],
   "source": []
  },
  {
   "cell_type": "code",
   "execution_count": null,
   "id": "d2675939",
   "metadata": {
    "papermill": {
     "duration": 0.069224,
     "end_time": "2022-07-14T15:17:13.714520",
     "exception": false,
     "start_time": "2022-07-14T15:17:13.645296",
     "status": "completed"
    },
    "tags": []
   },
   "outputs": [],
   "source": []
  },
  {
   "cell_type": "code",
   "execution_count": null,
   "id": "1e104def",
   "metadata": {
    "papermill": {
     "duration": 0.076853,
     "end_time": "2022-07-14T15:17:13.861674",
     "exception": false,
     "start_time": "2022-07-14T15:17:13.784821",
     "status": "completed"
    },
    "tags": []
   },
   "outputs": [],
   "source": []
  },
  {
   "cell_type": "code",
   "execution_count": null,
   "id": "6895d77d",
   "metadata": {
    "papermill": {
     "duration": 0.071043,
     "end_time": "2022-07-14T15:17:14.008850",
     "exception": false,
     "start_time": "2022-07-14T15:17:13.937807",
     "status": "completed"
    },
    "tags": []
   },
   "outputs": [],
   "source": []
  }
 ],
 "metadata": {
  "kernelspec": {
   "display_name": "Python 3",
   "language": "python",
   "name": "python3"
  },
  "language_info": {
   "codemirror_mode": {
    "name": "ipython",
    "version": 3
   },
   "file_extension": ".py",
   "mimetype": "text/x-python",
   "name": "python",
   "nbconvert_exporter": "python",
   "pygments_lexer": "ipython3",
   "version": "3.7.12"
  },
  "papermill": {
   "default_parameters": {},
   "duration": 62.6948,
   "end_time": "2022-07-14T15:17:16.535914",
   "environment_variables": {},
   "exception": null,
   "input_path": "__notebook__.ipynb",
   "output_path": "__notebook__.ipynb",
   "parameters": {},
   "start_time": "2022-07-14T15:16:13.841114",
   "version": "2.3.3"
  }
 },
 "nbformat": 4,
 "nbformat_minor": 5
}
